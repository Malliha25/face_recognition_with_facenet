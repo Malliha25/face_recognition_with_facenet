{
 "cells": [
  {
   "cell_type": "code",
   "execution_count": null,
   "metadata": {},
   "outputs": [],
   "source": []
  },
  {
   "cell_type": "code",
   "execution_count": 8,
   "metadata": {},
   "outputs": [
    {
     "ename": "ImportError",
     "evalue": "cannot import name 'LRN2D' from 'utils' (C:\\Users\\malli\\AppData\\Roaming\\Python\\Python39\\site-packages\\utils\\__init__.py)",
     "output_type": "error",
     "traceback": [
      "\u001b[1;31m---------------------------------------------------------------------------\u001b[0m",
      "\u001b[1;31mImportError\u001b[0m                               Traceback (most recent call last)",
      "\u001b[1;32mc:\\Users\\malli\\OneDrive\\Desktop\\Face-Recognition-with-FaceNET-main\\app.ipynb Cell 2\u001b[0m in \u001b[0;36m<cell line: 10>\u001b[1;34m()\u001b[0m\n\u001b[0;32m      <a href='vscode-notebook-cell:/c%3A/Users/malli/OneDrive/Desktop/Face-Recognition-with-FaceNET-main/app.ipynb#W1sZmlsZQ%3D%3D?line=7'>8</a>\u001b[0m \u001b[39mimport\u001b[39;00m \u001b[39mpickle\u001b[39;00m\n\u001b[0;32m      <a href='vscode-notebook-cell:/c%3A/Users/malli/OneDrive/Desktop/Face-Recognition-with-FaceNET-main/app.ipynb#W1sZmlsZQ%3D%3D?line=8'>9</a>\u001b[0m \u001b[39mimport\u001b[39;00m \u001b[39mcv2\u001b[39;00m\n\u001b[1;32m---> <a href='vscode-notebook-cell:/c%3A/Users/malli/OneDrive/Desktop/Face-Recognition-with-FaceNET-main/app.ipynb#W1sZmlsZQ%3D%3D?line=9'>10</a>\u001b[0m \u001b[39mimport\u001b[39;00m \u001b[39mfacenet\u001b[39;00m\n",
      "File \u001b[1;32mc:\\Users\\malli\\OneDrive\\Desktop\\Face-Recognition-with-FaceNET-main\\facenet.py:15\u001b[0m, in \u001b[0;36m<module>\u001b[1;34m\u001b[0m\n\u001b[0;32m     13\u001b[0m \u001b[39mimport\u001b[39;00m \u001b[39mpandas\u001b[39;00m \u001b[39mas\u001b[39;00m \u001b[39mpd\u001b[39;00m\n\u001b[0;32m     14\u001b[0m \u001b[39mimport\u001b[39;00m \u001b[39mtensorflow\u001b[39;00m \u001b[39mas\u001b[39;00m \u001b[39mtf\u001b[39;00m\n\u001b[1;32m---> 15\u001b[0m \u001b[39mfrom\u001b[39;00m \u001b[39mutils\u001b[39;00m \u001b[39mimport\u001b[39;00m LRN2D\n\u001b[0;32m     16\u001b[0m \u001b[39mimport\u001b[39;00m \u001b[39mutils\u001b[39;00m\n\u001b[0;32m     18\u001b[0m \u001b[39mdef\u001b[39;00m \u001b[39mfacenet\u001b[39m():\n",
      "\u001b[1;31mImportError\u001b[0m: cannot import name 'LRN2D' from 'utils' (C:\\Users\\malli\\AppData\\Roaming\\Python\\Python39\\site-packages\\utils\\__init__.py)"
     ]
    }
   ],
   "source": [
    "from PIL import Image\n",
    "\n",
    "from keras.models import load_model\n",
    "import numpy as np\n",
    "from numpy import asarray\n",
    "from numpy import expand_dims\n",
    "\n",
    "import pickle\n",
    "import cv2\n",
    "import facenet"
   ]
  },
  {
   "cell_type": "code",
   "execution_count": 2,
   "metadata": {},
   "outputs": [
    {
     "ename": "NameError",
     "evalue": "name 'facenet' is not defined",
     "output_type": "error",
     "traceback": [
      "\u001b[1;31m---------------------------------------------------------------------------\u001b[0m",
      "\u001b[1;31mNameError\u001b[0m                                 Traceback (most recent call last)",
      "\u001b[1;32mc:\\Users\\malli\\OneDrive\\Desktop\\Face-Recognition-with-FaceNET-main\\app.ipynb Cell 3\u001b[0m in \u001b[0;36m<cell line: 4>\u001b[1;34m()\u001b[0m\n\u001b[0;32m      <a href='vscode-notebook-cell:/c%3A/Users/malli/OneDrive/Desktop/Face-Recognition-with-FaceNET-main/app.ipynb#W2sZmlsZQ%3D%3D?line=1'>2</a>\u001b[0m HaarCascade \u001b[39m=\u001b[39m cv2\u001b[39m.\u001b[39mCascadeClassifier(cv2\u001b[39m.\u001b[39msamples\u001b[39m.\u001b[39mfindFile(cv2\u001b[39m.\u001b[39mdata\u001b[39m.\u001b[39mhaarcascades \u001b[39m+\u001b[39m \u001b[39m'\u001b[39m\u001b[39mhaarcascade_frontalface_default.xml\u001b[39m\u001b[39m'\u001b[39m))\n\u001b[0;32m      <a href='vscode-notebook-cell:/c%3A/Users/malli/OneDrive/Desktop/Face-Recognition-with-FaceNET-main/app.ipynb#W2sZmlsZQ%3D%3D?line=2'>3</a>\u001b[0m \u001b[39m#MyFaceNet = load_model('facenet_keras.h5')\u001b[39;00m\n\u001b[1;32m----> <a href='vscode-notebook-cell:/c%3A/Users/malli/OneDrive/Desktop/Face-Recognition-with-FaceNET-main/app.ipynb#W2sZmlsZQ%3D%3D?line=3'>4</a>\u001b[0m MyFaceNet\u001b[39m=\u001b[39mfacenet\u001b[39m.\u001b[39mfacenet()\n",
      "\u001b[1;31mNameError\u001b[0m: name 'facenet' is not defined"
     ]
    }
   ],
   "source": [
    "#HaarCascade = cv2.CascadeClassifier('haarcascade_frontalface_default.xml')\n",
    "HaarCascade = cv2.CascadeClassifier(cv2.samples.findFile(cv2.data.haarcascades + 'haarcascade_frontalface_default.xml'))\n",
    "#MyFaceNet = load_model('facenet_keras.h5')\n",
    "MyFaceNet=facenet.facenet()"
   ]
  },
  {
   "cell_type": "code",
   "execution_count": null,
   "metadata": {},
   "outputs": [
    {
     "ename": "",
     "evalue": "",
     "output_type": "error",
     "traceback": [
      "\u001b[1;31mRunning cells with 'Python 3.6.8 64-bit' requires ipykernel package.\n",
      "\u001b[1;31mRun the following command to install 'ipykernel' into the Python environment. \n",
      "\u001b[1;31mCommand: 'c:/Users/malli/AppData/Local/Programs/Python/Python36/python.exe -m pip install ipykernel -U --user --force-reinstall'"
     ]
    }
   ],
   "source": [
    "myfile = open(\"data.pkl\", \"rb\")\n",
    "database = pickle.load(myfile)\n",
    "myfile.close()"
   ]
  },
  {
   "cell_type": "code",
   "execution_count": null,
   "metadata": {},
   "outputs": [
    {
     "ename": "",
     "evalue": "",
     "output_type": "error",
     "traceback": [
      "\u001b[1;31mRunning cells with 'Python 3.6.8 64-bit' requires ipykernel package.\n",
      "\u001b[1;31mRun the following command to install 'ipykernel' into the Python environment. \n",
      "\u001b[1;31mCommand: 'c:/Users/malli/AppData/Local/Programs/Python/Python36/python.exe -m pip install ipykernel -U --user --force-reinstall'"
     ]
    }
   ],
   "source": [
    "cap = cv2.VideoCapture(0)\n",
    "\n",
    "while(1):\n",
    "    _, gbr1 = cap.read()\n",
    "    \n",
    "    wajah = HaarCascade.detectMultiScale(gbr1,1.1,4)\n",
    "    \n",
    "    if len(wajah)>0:\n",
    "        x1, y1, width, height = wajah[0]        \n",
    "    else:\n",
    "        x1, y1, width, height = 1, 1, 10, 10\n",
    "    \n",
    "    x1, y1 = abs(x1), abs(y1)\n",
    "    x2, y2 = x1 + width, y1 + height\n",
    "    \n",
    "    \n",
    "    gbr = cv2.cvtColor(gbr1, cv2.COLOR_BGR2RGB)\n",
    "    gbr = Image.fromarray(gbr)                  # konversi dari OpenCV ke PIL\n",
    "    gbr_array = asarray(gbr)\n",
    "    \n",
    "    face = gbr_array[y1:y2, x1:x2]                        \n",
    "    \n",
    "    face = Image.fromarray(face)                       \n",
    "    face = face.resize((160,160))\n",
    "    face = asarray(face)\n",
    "    \n",
    "    face = face.astype('float32')\n",
    "    mean, std = face.mean(), face.std()\n",
    "    face = (face - mean) / std\n",
    "    \n",
    "    face = expand_dims(face, axis=0)\n",
    "    signature = MyFaceNet.predict(face)\n",
    "    \n",
    "    min_dist=100\n",
    "    identity=' '\n",
    "    for key, value in database.items() :\n",
    "        dist = np.linalg.norm(value-signature)\n",
    "        if dist < min_dist:\n",
    "            min_dist = dist\n",
    "            identity = key\n",
    "            \n",
    "    cv2.putText(gbr1,identity, (100,100),cv2.FONT_HERSHEY_SIMPLEX, 1, (255, 255, 0), 2, cv2.LINE_AA)\n",
    "    cv2.rectangle(gbr1,(x1,y1),(x2,y2), (0,255,0), 2)\n",
    "        \n",
    "    cv2.imshow('res',gbr1)\n",
    "    \n",
    "    k = cv2.waitKey(5) & 0xFF\n",
    "    if k == 27:\n",
    "        break\n",
    "        \n",
    "cv2.destroyAllWindows()\n",
    "cap.release()"
   ]
  },
  {
   "cell_type": "code",
   "execution_count": null,
   "metadata": {},
   "outputs": [
    {
     "ename": "",
     "evalue": "",
     "output_type": "error",
     "traceback": [
      "\u001b[1;31mRunning cells with 'Python 3.6.8 64-bit' requires ipykernel package.\n",
      "\u001b[1;31mRun the following command to install 'ipykernel' into the Python environment. \n",
      "\u001b[1;31mCommand: 'c:/Users/malli/AppData/Local/Programs/Python/Python36/python.exe -m pip install ipykernel -U --user --force-reinstall'"
     ]
    }
   ],
   "source": []
  }
 ],
 "metadata": {
  "kernelspec": {
   "display_name": "Python 3.9.2 64-bit",
   "language": "python",
   "name": "python3"
  },
  "language_info": {
   "codemirror_mode": {
    "name": "ipython",
    "version": 3
   },
   "file_extension": ".py",
   "mimetype": "text/x-python",
   "name": "python",
   "nbconvert_exporter": "python",
   "pygments_lexer": "ipython3",
   "version": "3.9.2"
  },
  "vscode": {
   "interpreter": {
    "hash": "11938c6bc6919ae2720b4d5011047913343b08a43b18698fd82dedb0d4417594"
   }
  }
 },
 "nbformat": 4,
 "nbformat_minor": 4
}
